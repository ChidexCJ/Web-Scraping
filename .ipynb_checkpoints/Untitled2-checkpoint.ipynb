{
 "cells": [
  {
   "cell_type": "code",
   "execution_count": 13,
   "id": "5a5d11ea",
   "metadata": {},
   "outputs": [],
   "source": [
    "import csv\n",
    "import numpy as np\n",
    "import pandas as pd\n",
    "from time import sleep\n",
    "import requests\n",
    "from bs4 import BeautifulSoup\n",
    "from random import randint"
   ]
  },
  {
   "cell_type": "code",
   "execution_count": 167,
   "id": "600ba41c",
   "metadata": {},
   "outputs": [],
   "source": [
    "pages = np.arange(1,51,1)"
   ]
  },
  {
   "cell_type": "code",
   "execution_count": 157,
   "id": "e7c07ac0",
   "metadata": {},
   "outputs": [
    {
     "data": {
      "text/plain": [
       "2"
      ]
     },
     "execution_count": 157,
     "metadata": {},
     "output_type": "execute_result"
    }
   ],
   "source": [
    "pages[1]"
   ]
  },
  {
   "cell_type": "code",
   "execution_count": 14,
   "id": "fb8ad128",
   "metadata": {},
   "outputs": [],
   "source": [
    "desc = []\n",
    "prize  = []\n",
    "rating = []"
   ]
  },
  {
   "cell_type": "code",
   "execution_count": null,
   "id": "d9c69b4d",
   "metadata": {},
   "outputs": [],
   "source": [
    "<a href=\"/catalog/?q=samsung+phones&amp;page=2#catalog-listing\" class=\"pg\" aria-label=\"Next Page\"><svg viewBox=\"0 0 24 24\" class=\"ic\" width=\"24\" height=\"24\"><use xlink:href=\"https://www.jumia.com.ng/assets_he/images/i-icons.3651711d.svg#arrow-right\"></use></svg></a>"
   ]
  },
  {
   "cell_type": "code",
   "execution_count": null,
   "id": "2ce3e420",
   "metadata": {},
   "outputs": [],
   "source": [
    "next_page = True\n"
   ]
  },
  {
   "cell_type": "code",
   "execution_count": 15,
   "id": "b4114595",
   "metadata": {},
   "outputs": [
    {
     "ename": "KeyboardInterrupt",
     "evalue": "",
     "output_type": "error",
     "traceback": [
      "\u001b[1;31m---------------------------------------------------------------------------\u001b[0m",
      "\u001b[1;31mKeyboardInterrupt\u001b[0m                         Traceback (most recent call last)",
      "Input \u001b[1;32mIn [15]\u001b[0m, in \u001b[0;36m<cell line: 1>\u001b[1;34m()\u001b[0m\n\u001b[0;32m      3\u001b[0m     pagee \u001b[38;5;241m=\u001b[39m requests\u001b[38;5;241m.\u001b[39mget(\u001b[38;5;124m'\u001b[39m\u001b[38;5;124mhttps://www.jumia.com.ng/catalog/?q=samsung+phones&page=\u001b[39m\u001b[38;5;124m'\u001b[39m\u001b[38;5;241m+\u001b[39m\u001b[38;5;28mstr\u001b[39m(page)\u001b[38;5;241m+\u001b[39m\u001b[38;5;124m'\u001b[39m\u001b[38;5;124m#catalog-listing\u001b[39m\u001b[38;5;124m'\u001b[39m)\n\u001b[0;32m      4\u001b[0m     soup \u001b[38;5;241m=\u001b[39m BeautifulSoup(pagee\u001b[38;5;241m.\u001b[39mtext, \u001b[38;5;124m'\u001b[39m\u001b[38;5;124mhtml.parser\u001b[39m\u001b[38;5;124m'\u001b[39m)\n\u001b[1;32m----> 5\u001b[0m     \u001b[43msleep\u001b[49m\u001b[43m(\u001b[49m\u001b[43mrandint\u001b[49m\u001b[43m(\u001b[49m\u001b[38;5;241;43m2\u001b[39;49m\u001b[43m,\u001b[49m\u001b[38;5;241;43m8\u001b[39;49m\u001b[43m)\u001b[49m\u001b[43m)\u001b[49m\n\u001b[0;32m      8\u001b[0m \u001b[38;5;28;01mfor\u001b[39;00m i \u001b[38;5;129;01min\u001b[39;00m soup:\n\u001b[0;32m      9\u001b[0m     description \u001b[38;5;241m=\u001b[39m [i\u001b[38;5;241m.\u001b[39mtext \u001b[38;5;28;01mfor\u001b[39;00m i \u001b[38;5;129;01min\u001b[39;00m soup\u001b[38;5;241m.\u001b[39mfindAll(\u001b[38;5;124m'\u001b[39m\u001b[38;5;124mh3\u001b[39m\u001b[38;5;124m'\u001b[39m, class_ \u001b[38;5;241m=\u001b[39m \u001b[38;5;124m'\u001b[39m\u001b[38;5;124mname\u001b[39m\u001b[38;5;124m'\u001b[39m)] \u001b[38;5;28;01mif\u001b[39;00m [i\u001b[38;5;241m.\u001b[39mtext \u001b[38;5;28;01mfor\u001b[39;00m i \u001b[38;5;129;01min\u001b[39;00m soup\u001b[38;5;241m.\u001b[39mfindAll(\u001b[38;5;124m'\u001b[39m\u001b[38;5;124mh3\u001b[39m\u001b[38;5;124m'\u001b[39m, class_ \u001b[38;5;241m=\u001b[39m \u001b[38;5;124m'\u001b[39m\u001b[38;5;124mname\u001b[39m\u001b[38;5;124m'\u001b[39m)] \u001b[38;5;28;01melse\u001b[39;00m \u001b[38;5;124m\"\u001b[39m\u001b[38;5;124m \u001b[39m\u001b[38;5;124m\"\u001b[39m\n",
      "\u001b[1;31mKeyboardInterrupt\u001b[0m: "
     ]
    }
   ],
   "source": [
    "for page in range(1,3):\n",
    "    while page==1:\n",
    "        pagee = requests.get('https://www.jumia.com.ng/catalog/?q=samsung+phones&page='+str(page)+'#catalog-listing')\n",
    "        soup = BeautifulSoup(pagee.text, 'html.parser')\n",
    "        sleep(randint(2,8))\n",
    "    \n",
    "        \n",
    "    for i in soup:\n",
    "        description = [i.text for i in soup.findAll('h3', class_ = 'name')] if [i.text for i in soup.findAll('h3', class_ = 'name')] else \" \"\n",
    "        price = [i.text for i in soup.findAll('div', attrs = {'class':'prc'})] if [i.text for i in soup.findAll('div', attrs = {'class':'prc'})] else \" \"\n",
    "    #rating = [i.text for i in soup.findAll('div', attrs = {'class': 'in'})] if [i.text for i in soup.findAll('div', attrs = {'class': 'in'})] else \" \"\n",
    "        desc.append(description)\n",
    "        prize.append(price)\n",
    "    page+=1"
   ]
  },
  {
   "cell_type": "code",
   "execution_count": 162,
   "id": "8a52f301",
   "metadata": {},
   "outputs": [],
   "source": [
    "for page in pages:\n",
    "    page = requests.get('https://www.jumia.com.ng/catalog/?q=samsung+phones&page='+str(page)+'#catalog-listing')\n",
    "    soup = BeautifulSoup(page.text, 'html.parser')\n",
    "    sleep(randint(2,8))\n",
    "    for i in soup:\n",
    "        description = [i.text for i in soup.findAll('h3', class_ = 'name')] if [i.text for i in soup.findAll('h3', class_ = 'name')] else \" \"\n",
    "        price = [i.text for i in soup.findAll('div', attrs = {'class':'prc'})] if [i.text for i in soup.findAll('div', attrs = {'class':'prc'})] else \" \"\n",
    "        rating = [i.text for i in soup.findAll('div', attrs = {'class': 'in'})] if [i.text for i in soup.findAll('div', attrs = {'class': 'in'})] else \" \"\n",
    "    "
   ]
  },
  {
   "cell_type": "code",
   "execution_count": 190,
   "id": "378adb75",
   "metadata": {},
   "outputs": [],
   "source": [
    "table = pd.DataFrame({\"Description\" : description, \"Price\" : price})"
   ]
  },
  {
   "cell_type": "code",
   "execution_count": 191,
   "id": "7d87a86a",
   "metadata": {},
   "outputs": [
    {
     "data": {
      "text/html": [
       "<div>\n",
       "<style scoped>\n",
       "    .dataframe tbody tr th:only-of-type {\n",
       "        vertical-align: middle;\n",
       "    }\n",
       "\n",
       "    .dataframe tbody tr th {\n",
       "        vertical-align: top;\n",
       "    }\n",
       "\n",
       "    .dataframe thead th {\n",
       "        text-align: right;\n",
       "    }\n",
       "</style>\n",
       "<table border=\"1\" class=\"dataframe\">\n",
       "  <thead>\n",
       "    <tr style=\"text-align: right;\">\n",
       "      <th></th>\n",
       "      <th>Description</th>\n",
       "      <th>Price</th>\n",
       "    </tr>\n",
       "  </thead>\n",
       "  <tbody>\n",
       "    <tr>\n",
       "      <th>0</th>\n",
       "      <td>Samsung Galaxy A03 Core, 6.5\" Screen, 2GB/32GB...</td>\n",
       "      <td>₦ 47,000</td>\n",
       "    </tr>\n",
       "    <tr>\n",
       "      <th>1</th>\n",
       "      <td>Samsung Galaxy A23, 6.6\" TFT Screen, 4GB/128GB...</td>\n",
       "      <td>₦ 116,000</td>\n",
       "    </tr>\n",
       "    <tr>\n",
       "      <th>2</th>\n",
       "      <td>Samsung Galaxy A53, 6.5\" Super AMOLED Screen, ...</td>\n",
       "      <td>₦ 199,999</td>\n",
       "    </tr>\n",
       "    <tr>\n",
       "      <th>3</th>\n",
       "      <td>Samsung Galaxy A03 Core, 6.5\" Screen, 2GB/32GB...</td>\n",
       "      <td>₦ 60,000</td>\n",
       "    </tr>\n",
       "    <tr>\n",
       "      <th>4</th>\n",
       "      <td>Samsung Galaxy A23, 6.6\" TFT Screen, 4GB/128GB...</td>\n",
       "      <td>₦ 116,000</td>\n",
       "    </tr>\n",
       "    <tr>\n",
       "      <th>5</th>\n",
       "      <td>Samsung Galaxy A53, 6.5\" Super AMOLED Screen, ...</td>\n",
       "      <td>₦ 199,999</td>\n",
       "    </tr>\n",
       "    <tr>\n",
       "      <th>6</th>\n",
       "      <td>Samsung Galaxy A50 6.4-Inch (4GB,128GB ROM) An...</td>\n",
       "      <td>₦ 78,782</td>\n",
       "    </tr>\n",
       "    <tr>\n",
       "      <th>7</th>\n",
       "      <td>Samsung Galaxy A53, 6.5\" Super AMOLED Screen, ...</td>\n",
       "      <td>₦ 199,999</td>\n",
       "    </tr>\n",
       "    <tr>\n",
       "      <th>8</th>\n",
       "      <td>Samsung Galaxy M32 - 6.5\" (6GB RAM, 128GB ROM)...</td>\n",
       "      <td>₦ 155,000</td>\n",
       "    </tr>\n",
       "    <tr>\n",
       "      <th>9</th>\n",
       "      <td>Samsung Galaxy S9 Plus (S9+) 6.2-Inch QHD (6GB...</td>\n",
       "      <td>₦ 129,985</td>\n",
       "    </tr>\n",
       "    <tr>\n",
       "      <th>10</th>\n",
       "      <td>Samsung Galaxy A53, 6.5\" Super AMOLED Screen, ...</td>\n",
       "      <td>₦ 199,999</td>\n",
       "    </tr>\n",
       "    <tr>\n",
       "      <th>11</th>\n",
       "      <td>Samsung Galaxy A23, 6.6\" TFT Screen, 4GB/64GB ...</td>\n",
       "      <td>₦ 110,297</td>\n",
       "    </tr>\n",
       "    <tr>\n",
       "      <th>12</th>\n",
       "      <td>Samsung Galaxy A32 (128GB, 6GB RAM) 6.4\" FHD +...</td>\n",
       "      <td>₦ 152,000</td>\n",
       "    </tr>\n",
       "    <tr>\n",
       "      <th>13</th>\n",
       "      <td>Samsung Galaxy A23, 6.6\" TFT Screen, 4GB/64GB ...</td>\n",
       "      <td>₦ 110,297</td>\n",
       "    </tr>\n",
       "    <tr>\n",
       "      <th>14</th>\n",
       "      <td>Samsung Galaxy Note 10 Plus 12GB/256GB Black, ...</td>\n",
       "      <td>₦ 260,000</td>\n",
       "    </tr>\n",
       "    <tr>\n",
       "      <th>15</th>\n",
       "      <td>Samsung Galaxy Tab A8, 10.5\" TFT Screen, 3GB/3...</td>\n",
       "      <td>₦ 139,902</td>\n",
       "    </tr>\n",
       "    <tr>\n",
       "      <th>16</th>\n",
       "      <td>Samsung Galaxy Note 9 Single Sim 6gb Ram 128gb...</td>\n",
       "      <td>₦ 160,000</td>\n",
       "    </tr>\n",
       "    <tr>\n",
       "      <th>17</th>\n",
       "      <td>Samsung Galaxy A03 - 6.5\" (3GB RAM, 32GB ROM) ...</td>\n",
       "      <td>₦ 62,990</td>\n",
       "    </tr>\n",
       "    <tr>\n",
       "      <th>18</th>\n",
       "      <td>Samsung Galaxy A23, 6.6\" TFT Screen, 4GB/64GB ...</td>\n",
       "      <td>₦ 110,297</td>\n",
       "    </tr>\n",
       "    <tr>\n",
       "      <th>19</th>\n",
       "      <td>Samsung Tab A7 Lite, 8.7 TFT Screen, 3GB/32GB ...</td>\n",
       "      <td>₦ 87,709</td>\n",
       "    </tr>\n",
       "    <tr>\n",
       "      <th>20</th>\n",
       "      <td>Samsung Galaxy S9 5.8-Inch QHD (4GB, 64GB ROM)...</td>\n",
       "      <td>₦ 110,000</td>\n",
       "    </tr>\n",
       "    <tr>\n",
       "      <th>21</th>\n",
       "      <td>Samsung Galaxy A53, 6.5\" Super AMOLED Screen, ...</td>\n",
       "      <td>₦ 199,999</td>\n",
       "    </tr>\n",
       "    <tr>\n",
       "      <th>22</th>\n",
       "      <td>Samsung Galaxy A12 - 6.5\" 48MP Camera, 4/128GB...</td>\n",
       "      <td>₦ 97,100</td>\n",
       "    </tr>\n",
       "    <tr>\n",
       "      <th>23</th>\n",
       "      <td>Samsung Galaxy A13 - 6.6\"(4GB RAM/64GB ROM)And...</td>\n",
       "      <td>₦ 97,500</td>\n",
       "    </tr>\n",
       "    <tr>\n",
       "      <th>24</th>\n",
       "      <td>Samsung Galaxy A03- 6.5\"-4GB/64GB ROM-48/2MP/5...</td>\n",
       "      <td>₦ 77,700</td>\n",
       "    </tr>\n",
       "    <tr>\n",
       "      <th>25</th>\n",
       "      <td>Samsung Galaxy A52 - 6.5 \", 6/128GB Memory, Re...</td>\n",
       "      <td>₦ 183,998</td>\n",
       "    </tr>\n",
       "    <tr>\n",
       "      <th>26</th>\n",
       "      <td>Samsung Galaxy A03 6.5\" 4GB RAM 64GB ROM Andro...</td>\n",
       "      <td>₦ 78,000</td>\n",
       "    </tr>\n",
       "    <tr>\n",
       "      <th>27</th>\n",
       "      <td>Samsung Galaxy Note 8 Single Sim (6GB RAM - 64...</td>\n",
       "      <td>₦ 140,000</td>\n",
       "    </tr>\n",
       "    <tr>\n",
       "      <th>28</th>\n",
       "      <td>Samsung Galaxy S9 Plus - Single Sim - 6GB RAM ...</td>\n",
       "      <td>₦ 135,000</td>\n",
       "    </tr>\n",
       "    <tr>\n",
       "      <th>29</th>\n",
       "      <td>Samsung Galaxy Note 8 6.3'' QHD Smartphone (6G...</td>\n",
       "      <td>₦ 135,000</td>\n",
       "    </tr>\n",
       "    <tr>\n",
       "      <th>30</th>\n",
       "      <td>Samsung Galaxy S9 4GBram 64GB Rom Android 8.0 ...</td>\n",
       "      <td>₦ 115,000</td>\n",
       "    </tr>\n",
       "    <tr>\n",
       "      <th>31</th>\n",
       "      <td>Samsung GALAXY S5 +32GB+2GB + 5.1in  + Photo +...</td>\n",
       "      <td>₦ 29,000</td>\n",
       "    </tr>\n",
       "    <tr>\n",
       "      <th>32</th>\n",
       "      <td>Samsung DUOS B310E Mobile Black</td>\n",
       "      <td>₦ 10,500</td>\n",
       "    </tr>\n",
       "    <tr>\n",
       "      <th>33</th>\n",
       "      <td>Samsung GALAXY A23 4GB/128GB,  DUAL- SIM ( BLACK)</td>\n",
       "      <td>₦ 135,460</td>\n",
       "    </tr>\n",
       "    <tr>\n",
       "      <th>34</th>\n",
       "      <td>Samsung Galaxy S22 Ultra Dual SIM - 12GB RAM -...</td>\n",
       "      <td>₦ 730,000</td>\n",
       "    </tr>\n",
       "    <tr>\n",
       "      <th>35</th>\n",
       "      <td>Samsung Galaxy Tab A7 Lite 8.0\" (2021, WiFi + ...</td>\n",
       "      <td>₦ 87,000</td>\n",
       "    </tr>\n",
       "    <tr>\n",
       "      <th>36</th>\n",
       "      <td>Samsung Galaxy A03 - 6.5\" (3GB RAM, 32GB ROM) ...</td>\n",
       "      <td>₦ 69,000</td>\n",
       "    </tr>\n",
       "    <tr>\n",
       "      <th>37</th>\n",
       "      <td>Samsung Galaxy S9 DUAL SIM (4GB,64GB ROM) 8.0 ...</td>\n",
       "      <td>₦ 108,900</td>\n",
       "    </tr>\n",
       "    <tr>\n",
       "      <th>38</th>\n",
       "      <td>Samsung Galaxy S8 (4GB RAM,64GB ROM) - Purple</td>\n",
       "      <td>₦ 100,000</td>\n",
       "    </tr>\n",
       "    <tr>\n",
       "      <th>39</th>\n",
       "      <td>Samsung Galaxy A03 - 6.5\" 48MP+2MP/5MP, 4/64GB...</td>\n",
       "      <td>₦ 78,000</td>\n",
       "    </tr>\n",
       "    <tr>\n",
       "      <th>40</th>\n",
       "      <td></td>\n",
       "      <td></td>\n",
       "    </tr>\n",
       "    <tr>\n",
       "      <th>41</th>\n",
       "      <td></td>\n",
       "      <td></td>\n",
       "    </tr>\n",
       "    <tr>\n",
       "      <th>42</th>\n",
       "      <td></td>\n",
       "      <td></td>\n",
       "    </tr>\n",
       "    <tr>\n",
       "      <th>43</th>\n",
       "      <td></td>\n",
       "      <td></td>\n",
       "    </tr>\n",
       "    <tr>\n",
       "      <th>44</th>\n",
       "      <td></td>\n",
       "      <td></td>\n",
       "    </tr>\n",
       "    <tr>\n",
       "      <th>45</th>\n",
       "      <td></td>\n",
       "      <td></td>\n",
       "    </tr>\n",
       "    <tr>\n",
       "      <th>46</th>\n",
       "      <td></td>\n",
       "      <td></td>\n",
       "    </tr>\n",
       "    <tr>\n",
       "      <th>47</th>\n",
       "      <td></td>\n",
       "      <td></td>\n",
       "    </tr>\n",
       "  </tbody>\n",
       "</table>\n",
       "</div>"
      ],
      "text/plain": [
       "                                          Description      Price\n",
       "0   Samsung Galaxy A03 Core, 6.5\" Screen, 2GB/32GB...   ₦ 47,000\n",
       "1   Samsung Galaxy A23, 6.6\" TFT Screen, 4GB/128GB...  ₦ 116,000\n",
       "2   Samsung Galaxy A53, 6.5\" Super AMOLED Screen, ...  ₦ 199,999\n",
       "3   Samsung Galaxy A03 Core, 6.5\" Screen, 2GB/32GB...   ₦ 60,000\n",
       "4   Samsung Galaxy A23, 6.6\" TFT Screen, 4GB/128GB...  ₦ 116,000\n",
       "5   Samsung Galaxy A53, 6.5\" Super AMOLED Screen, ...  ₦ 199,999\n",
       "6   Samsung Galaxy A50 6.4-Inch (4GB,128GB ROM) An...   ₦ 78,782\n",
       "7   Samsung Galaxy A53, 6.5\" Super AMOLED Screen, ...  ₦ 199,999\n",
       "8   Samsung Galaxy M32 - 6.5\" (6GB RAM, 128GB ROM)...  ₦ 155,000\n",
       "9   Samsung Galaxy S9 Plus (S9+) 6.2-Inch QHD (6GB...  ₦ 129,985\n",
       "10  Samsung Galaxy A53, 6.5\" Super AMOLED Screen, ...  ₦ 199,999\n",
       "11  Samsung Galaxy A23, 6.6\" TFT Screen, 4GB/64GB ...  ₦ 110,297\n",
       "12  Samsung Galaxy A32 (128GB, 6GB RAM) 6.4\" FHD +...  ₦ 152,000\n",
       "13  Samsung Galaxy A23, 6.6\" TFT Screen, 4GB/64GB ...  ₦ 110,297\n",
       "14  Samsung Galaxy Note 10 Plus 12GB/256GB Black, ...  ₦ 260,000\n",
       "15  Samsung Galaxy Tab A8, 10.5\" TFT Screen, 3GB/3...  ₦ 139,902\n",
       "16  Samsung Galaxy Note 9 Single Sim 6gb Ram 128gb...  ₦ 160,000\n",
       "17  Samsung Galaxy A03 - 6.5\" (3GB RAM, 32GB ROM) ...   ₦ 62,990\n",
       "18  Samsung Galaxy A23, 6.6\" TFT Screen, 4GB/64GB ...  ₦ 110,297\n",
       "19  Samsung Tab A7 Lite, 8.7 TFT Screen, 3GB/32GB ...   ₦ 87,709\n",
       "20  Samsung Galaxy S9 5.8-Inch QHD (4GB, 64GB ROM)...  ₦ 110,000\n",
       "21  Samsung Galaxy A53, 6.5\" Super AMOLED Screen, ...  ₦ 199,999\n",
       "22  Samsung Galaxy A12 - 6.5\" 48MP Camera, 4/128GB...   ₦ 97,100\n",
       "23  Samsung Galaxy A13 - 6.6\"(4GB RAM/64GB ROM)And...   ₦ 97,500\n",
       "24  Samsung Galaxy A03- 6.5\"-4GB/64GB ROM-48/2MP/5...   ₦ 77,700\n",
       "25  Samsung Galaxy A52 - 6.5 \", 6/128GB Memory, Re...  ₦ 183,998\n",
       "26  Samsung Galaxy A03 6.5\" 4GB RAM 64GB ROM Andro...   ₦ 78,000\n",
       "27  Samsung Galaxy Note 8 Single Sim (6GB RAM - 64...  ₦ 140,000\n",
       "28  Samsung Galaxy S9 Plus - Single Sim - 6GB RAM ...  ₦ 135,000\n",
       "29  Samsung Galaxy Note 8 6.3'' QHD Smartphone (6G...  ₦ 135,000\n",
       "30  Samsung Galaxy S9 4GBram 64GB Rom Android 8.0 ...  ₦ 115,000\n",
       "31  Samsung GALAXY S5 +32GB+2GB + 5.1in  + Photo +...   ₦ 29,000\n",
       "32                    Samsung DUOS B310E Mobile Black   ₦ 10,500\n",
       "33  Samsung GALAXY A23 4GB/128GB,  DUAL- SIM ( BLACK)  ₦ 135,460\n",
       "34  Samsung Galaxy S22 Ultra Dual SIM - 12GB RAM -...  ₦ 730,000\n",
       "35  Samsung Galaxy Tab A7 Lite 8.0\" (2021, WiFi + ...   ₦ 87,000\n",
       "36  Samsung Galaxy A03 - 6.5\" (3GB RAM, 32GB ROM) ...   ₦ 69,000\n",
       "37  Samsung Galaxy S9 DUAL SIM (4GB,64GB ROM) 8.0 ...  ₦ 108,900\n",
       "38      Samsung Galaxy S8 (4GB RAM,64GB ROM) - Purple  ₦ 100,000\n",
       "39  Samsung Galaxy A03 - 6.5\" 48MP+2MP/5MP, 4/64GB...   ₦ 78,000\n",
       "40                                                              \n",
       "41                                                              \n",
       "42                                                              \n",
       "43                                                              \n",
       "44                                                              \n",
       "45                                                              \n",
       "46                                                              \n",
       "47                                                              "
      ]
     },
     "execution_count": 191,
     "metadata": {},
     "output_type": "execute_result"
    }
   ],
   "source": [
    "table"
   ]
  },
  {
   "cell_type": "code",
   "execution_count": 165,
   "id": "2f14d6a7",
   "metadata": {},
   "outputs": [
    {
     "data": {
      "text/plain": [
       "(40, 2)"
      ]
     },
     "execution_count": 165,
     "metadata": {},
     "output_type": "execute_result"
    }
   ],
   "source": [
    "table.shape"
   ]
  },
  {
   "cell_type": "code",
   "execution_count": null,
   "id": "a7051761",
   "metadata": {},
   "outputs": [],
   "source": []
  },
  {
   "cell_type": "code",
   "execution_count": 90,
   "id": "fe65ab01",
   "metadata": {},
   "outputs": [],
   "source": [
    "description = [i.text for i in soup.find_all('h3', class_ = 'name')] if [i.text for i in soup.find_all('h3', class_ = 'name')] else \" \""
   ]
  },
  {
   "cell_type": "code",
   "execution_count": 91,
   "id": "0ac489d1",
   "metadata": {},
   "outputs": [],
   "source": [
    "price = [i.text for i in soup.find_all('div', attrs = {'class':'prc'})] if [i.text for i in soup.find_all('div', attrs = {'class':'prc'})] else \" \""
   ]
  },
  {
   "cell_type": "code",
   "execution_count": 92,
   "id": "f9d60b62",
   "metadata": {},
   "outputs": [],
   "source": [
    "rating = [i.text for i in soup.find_all('div', attrs = {'class': 'in'})] if [i.text for i in soup.find_all('div', attrs = {'class': 'in'})] else \" \""
   ]
  },
  {
   "cell_type": "code",
   "execution_count": 93,
   "id": "a56f1e9f",
   "metadata": {},
   "outputs": [
    {
     "data": {
      "text/plain": [
       "['', '', '']"
      ]
     },
     "execution_count": 93,
     "metadata": {},
     "output_type": "execute_result"
    }
   ],
   "source": [
    "rating"
   ]
  },
  {
   "cell_type": "code",
   "execution_count": 94,
   "id": "a47975d5",
   "metadata": {},
   "outputs": [
    {
     "data": {
      "text/plain": [
       "['₦ 175,000',\n",
       " '₦ 224,999',\n",
       " '₦ 150,000',\n",
       " '₦ 240,000',\n",
       " '₦ 794,999',\n",
       " '₦ 295,000',\n",
       " '₦ 125,500',\n",
       " '₦ 210,000',\n",
       " '₦ 205,000',\n",
       " '₦ 140,000',\n",
       " '₦ 223,000',\n",
       " '₦ 215,999',\n",
       " '₦ 154,760',\n",
       " '₦ 230,000',\n",
       " '₦ 182,000',\n",
       " '₦ 71,000',\n",
       " '₦ 134,000',\n",
       " '₦ 355,000',\n",
       " '₦ 145,000',\n",
       " '₦ 195,000',\n",
       " '₦ 160,000',\n",
       " '₦ 200,000',\n",
       " '₦ 299,999',\n",
       " '₦ 120,450',\n",
       " '₦ 305,000',\n",
       " '₦ 110,000',\n",
       " '₦ 195,000',\n",
       " '₦ 199,100',\n",
       " '₦ 171,500',\n",
       " '₦ 299,999',\n",
       " '₦ 135,000',\n",
       " '₦ 175,000',\n",
       " '₦ 140,000',\n",
       " '₦ 112,500',\n",
       " '₦ 144,000',\n",
       " '₦ 117,500',\n",
       " '₦ 125,000',\n",
       " '₦ 300,000',\n",
       " '₦ 220,000',\n",
       " '₦ 430,000',\n",
       " '',\n",
       " '',\n",
       " '',\n",
       " '',\n",
       " '',\n",
       " '',\n",
       " '',\n",
       " '']"
      ]
     },
     "execution_count": 94,
     "metadata": {},
     "output_type": "execute_result"
    }
   ],
   "source": [
    "price"
   ]
  },
  {
   "cell_type": "code",
   "execution_count": 95,
   "id": "be731090",
   "metadata": {},
   "outputs": [
    {
     "data": {
      "text/plain": [
       "['Samsung Galaxy Note 9 6.4 Inch Single Sim (6GB+128GB) Andriod 4G Smartphone - Blue',\n",
       " 'Samsung Galaxy Tab A8 - 10.5\" (4GB RAM, 64GB ROM) Android 11 - 8MP + 5MP Selfie - 7040mAh - 4G LTE - Fingerprint - Gray',\n",
       " 'Samsung Galaxy A23 - 6.6\" (4GB RAM, 128GB ROM) Android 12 (50/8/2/2)MP + 8MP Selfie - Snapdragon 4G - 5000mAh - Dual Sim - Black',\n",
       " \"Samsung Galaxy A53 5G 6.5'' 6GB 128GB ROM Android 12 - Awesome White\",\n",
       " 'Samsung Galaxy S21Ultra 6.2 Inches-Dual SIM (256GB + 12GB) (108MP + 10MP + 10MP) +12MP- 5000mAh-5G- Phantom Silver',\n",
       " 'Samsung Galaxy Note 10 Plus (Note 10+), 6.8-Inch (12GB RAM, 256GB ROM), (12MP + 12MP + 16MP) Single SIM -  Black',\n",
       " 'Samsung Galaxy A23 - 6.6\" (4GB RAM, 64GB ROM) Android 12 (50/8/2/2)MP + 8MP Selfie - 4G - 5000mAh - Dual Sim - Black',\n",
       " 'Samsung Galaxy S10 (8GB, 128GB ROM) Android 9.0 Pie, 12MP + 12MP + 16MP Nano SIM 4G  White',\n",
       " 'Samsung Galaxy A33 - 6.4\" 5G - Dual Sim - 5000mAh - Awesome Black',\n",
       " 'Samsung Galaxy Note 8 -single Sim - 6gb Ram - 64gb Rom (Midnight Black) +Pouch,Screen Guide & A Free Torchlight Button Phone',\n",
       " 'Samsung Galaxy A33 - 6.4\" Screen, 6GB/128GB, 48/8/5/2MP, 5G, 5000mAh',\n",
       " 'Samsung Galaxy S10 Plus Single Sim White 8gb Ram 128gb Rom .',\n",
       " 'Samsung Galaxy Tab A7 - 10.4\" - 32GB ROM - 3GB RAM - 7040mAh - 8MP Rear + 5MP Selfie - Grey',\n",
       " 'Samsung Galaxy S10 Plus (S10+) 6.4-Inch AMOLED (8GB,128GB ROM) BLUE With 24 Month Nigeria Warranty On It .',\n",
       " 'Samsung Galaxy S10 - 8GB + 128GB Mobile Phones - Blue',\n",
       " 'Samsung Galaxy A03- 6.5\"-3GB/32GB ROM-48/2MP/5MP-5000mAH-4G LTE-Blue',\n",
       " 'Samsung Galaxy S9 Plus - Single Sim - 6GB RAM - 64GB ROM + Free Pouch, Screen Protector And Power Bank',\n",
       " 'Samsung Galaxy S20+ 5G 128GB 5G Version Single  SIM  Color Blue',\n",
       " 'Samsung Galaxy S9 Plus 6.2-Inch QHD (6GB, 64GB ROM) Android 8.0 12MP + 8MP Dual SIM 4G Smartphone Back Case & Screen Guide',\n",
       " 'Samsung Galaxy A52 Dual SIM,  4G LTE. Awesome  White',\n",
       " 'Samsung Galaxy Note 9 - (6GB+128GB)(12MP+12MP), S-Pen Single Sim + Free Standard Back Case & Screen Guide',\n",
       " 'Samsung Galaxy M32 - 6.5\" (8GB RAM, 128GB ROM) Android 11 (48/8/5/2)MP + 13MP Selfie - 5000mAh - 5G - Dual Sim - Slate Black',\n",
       " 'Samsung Galaxy A72 Dual SIM ,(128GB ROM + 8GB RAM) (64MP + 8MP + 12MP + 5MP) 4G LTE - Awesome White',\n",
       " 'Samsung GALAXY S8 4+64GB Dual Sim Android 7.0 Octa Core 2.35GHz 5.8 Inch WQHD 8.0+12.0MP - Silver',\n",
       " 'Samsung Galaxy S20 128GB 5G Single  Sim Colour Blue',\n",
       " 'Samsung Galaxy A13 - 6.6\"-4/128GB-50/5/2/2+8MP-5000mAh-4G-PEACH',\n",
       " 'Samsung Galaxy A52 Dual SIM, 4G LTE. Awesome  Blue',\n",
       " 'Samsung Galaxy S10+ 8+128GB G975U Single Sim Android 9.0 Octa Core 2.8GHz 6.4 Inch Quad HD+ Tri-lens Camera - Blue',\n",
       " 'Samsung Galaxy Note 9 Dual Sim 6gb Ram 128gb Rom Case & Screen Guide',\n",
       " 'Samsung Galaxy S20 FE 6.5\" (128GB ROM,6GB RAM) Android 10 (12/12/8)MP + 32MP Selfie - Dual SIM - 4G - 4500mAh - Cloud Red',\n",
       " 'Samsung Galaxy S9 G960FD 4+64GB Dual Sim Android 8.0 Octa Core 2.8GHz 5.8 Inch Quad HD+ 8+12MP - Black',\n",
       " 'Samsung Galaxy Note 9 6.4 Inch Single Sim (6GB+128GB) Andriod 4G Smartphone - Purple',\n",
       " 'Samsung Galaxy Note 8 6.3-Inch QHD (6GB,64GB ROM), (12MP + 12MP) + 8MP 4G LTE Smartphone - Blue +Free Bluetooth Earpiece',\n",
       " 'Samsung Galaxy S9 Single Sim 4gb Ram 64gb Rom Case & Screen Guide',\n",
       " 'Samsung Galaxy (S9+ ) 6+64GB - Single Sim, 6.2 Inch Quad HD+ 12+12MP Dual Camera - Purple With A Free Screen Guide & Back Case',\n",
       " 'Samsung Galaxy S9 Dual Sim 64gb Rom 4gb Ram  Black With Free Pouch & Screen Guide.',\n",
       " 'Samsung Galaxy A13 - 6.6\" (4GB RAM, 128GB ROM) Android 12 (50/5/2/2)MP + 8MP Selfie - 5000mAh - Dual Sim - 4G LTE - Blue',\n",
       " 'Samsung Galaxy Note 10 Plus (Note 10+), 256GB Storage, 12GB RAM,4,300mAh,12MP Wide, 12MP, 16MP Ultra Wide-Aura Black',\n",
       " 'Samsung Galaxy S10+ Single Sim - 8gb Ram - 128gb Rom + Free Pouch & Screen Guide + Power Bank',\n",
       " 'Samsung Galaxy S21 FE 5G, 6.4-Inch 6GB RAM, 128GB ROM Android 12 (12MP +8MP +12MP) + 32MP  Dual SIM -  Graphite',\n",
       " '',\n",
       " '',\n",
       " '',\n",
       " '',\n",
       " '',\n",
       " '',\n",
       " '',\n",
       " '']"
      ]
     },
     "execution_count": 95,
     "metadata": {},
     "output_type": "execute_result"
    }
   ],
   "source": [
    "description"
   ]
  },
  {
   "cell_type": "code",
   "execution_count": 154,
   "id": "464113a2",
   "metadata": {},
   "outputs": [
    {
     "ename": "AttributeError",
     "evalue": "'NoneType' object has no attribute 'text'",
     "output_type": "error",
     "traceback": [
      "\u001b[1;31m---------------------------------------------------------------------------\u001b[0m",
      "\u001b[1;31mAttributeError\u001b[0m                            Traceback (most recent call last)",
      "Input \u001b[1;32mIn [154]\u001b[0m, in \u001b[0;36m<cell line: 1>\u001b[1;34m()\u001b[0m\n\u001b[0;32m      5\u001b[0m sleep(randint(\u001b[38;5;241m2\u001b[39m,\u001b[38;5;241m8\u001b[39m))\n\u001b[0;32m      6\u001b[0m \u001b[38;5;28;01mfor\u001b[39;00m item \u001b[38;5;129;01min\u001b[39;00m samsung_data:\n\u001b[1;32m----> 7\u001b[0m     description \u001b[38;5;241m=\u001b[39m \u001b[43mitem\u001b[49m\u001b[38;5;241;43m.\u001b[39;49m\u001b[43mdiv\u001b[49m\u001b[38;5;241;43m.\u001b[39;49m\u001b[43mh3\u001b[49m\u001b[38;5;241;43m.\u001b[39;49m\u001b[43mtext\u001b[49m\u001b[38;5;241m.\u001b[39mstrip()\n\u001b[0;32m      8\u001b[0m     price \u001b[38;5;241m=\u001b[39m item\u001b[38;5;241m.\u001b[39mdiv\u001b[38;5;241m.\u001b[39mfind(\u001b[38;5;124m'\u001b[39m\u001b[38;5;124mdiv\u001b[39m\u001b[38;5;124m'\u001b[39m, class_ \u001b[38;5;241m=\u001b[39m \u001b[38;5;124m'\u001b[39m\u001b[38;5;124mprc\u001b[39m\u001b[38;5;124m'\u001b[39m)\u001b[38;5;241m.\u001b[39mtext\n",
      "\u001b[1;31mAttributeError\u001b[0m: 'NoneType' object has no attribute 'text'"
     ]
    }
   ],
   "source": [
    "for page in pages:\n",
    "    page = requests.get('https://www.jumia.com.ng/catalog/?q=samsung+phones&page='+str(page)+'#catalog-listing')\n",
    "    soup = BeautifulSoup(page.text, 'html.parser')\n",
    "    samsung_data = soup.findAll('a', attrs = {'class' : 'core'})\n",
    "    sleep(randint(2,8))\n",
    "    for item in samsung_data:\n",
    "        description = item.div.h3.text.strip()\n",
    "        price = item.div.find('div', class_ = 'prc').text"
   ]
  },
  {
   "cell_type": "code",
   "execution_count": 36,
   "id": "f3282737",
   "metadata": {},
   "outputs": [
    {
     "data": {
      "text/plain": [
       "<Response [200]>"
      ]
     },
     "execution_count": 36,
     "metadata": {},
     "output_type": "execute_result"
    }
   ],
   "source": [
    "page"
   ]
  },
  {
   "cell_type": "code",
   "execution_count": 151,
   "id": "fe4cf2d1",
   "metadata": {},
   "outputs": [],
   "source": [
    "description"
   ]
  },
  {
   "cell_type": "code",
   "execution_count": 152,
   "id": "a709d08a",
   "metadata": {},
   "outputs": [],
   "source": [
    "price"
   ]
  },
  {
   "cell_type": "code",
   "execution_count": 77,
   "id": "a9c2dad3",
   "metadata": {},
   "outputs": [
    {
     "data": {
      "text/plain": [
       "' '"
      ]
     },
     "execution_count": 77,
     "metadata": {},
     "output_type": "execute_result"
    }
   ],
   "source": [
    "review"
   ]
  },
  {
   "cell_type": "code",
   "execution_count": 12,
   "id": "171f430c",
   "metadata": {},
   "outputs": [],
   "source": [
    "url  = \"https://www.jumia.com.ng/catalog/?q=tecno+android+phones\""
   ]
  },
  {
   "cell_type": "code",
   "execution_count": null,
   "id": "67192c24",
   "metadata": {},
   "outputs": [],
   "source": []
  },
  {
   "cell_type": "code",
   "execution_count": null,
   "id": "1c389e19",
   "metadata": {},
   "outputs": [],
   "source": []
  },
  {
   "cell_type": "code",
   "execution_count": 13,
   "id": "373a9e4b",
   "metadata": {},
   "outputs": [],
   "source": [
    "def extract_data(url):\n",
    "    response = requests.get(url)\n",
    "    soup = BeautifulSoup(response.text, \"html.parser\")\n",
    "    return soup"
   ]
  },
  {
   "cell_type": "code",
   "execution_count": 14,
   "id": "9323fdc3",
   "metadata": {},
   "outputs": [],
   "source": [
    "def extract_pages(soup):\n",
    "    page = soup.find(\"div\", class_ = \"pg-w -ptm -pbxl\")\n",
    "    if not page.find(\"a\", class_ = \"pg\"):\n",
    "        url = 'https://www.jumia.com.ng' + str(page.find('a', class_ = \"pg_act\")).find('a')['href']\n",
    "        return url\n",
    "    else:\n",
    "        return\n",
    "        "
   ]
  },
  {
   "cell_type": "code",
   "execution_count": 15,
   "id": "fe943dc7",
   "metadata": {},
   "outputs": [],
   "source": [
    "while True:\n",
    "    soup = extract_data(url)\n",
    "    url = extract_pages(soup)\n",
    "    if not url:\n",
    "        break\n",
    "    print(url)\n"
   ]
  },
  {
   "cell_type": "code",
   "execution_count": 10,
   "id": "c255f883",
   "metadata": {},
   "outputs": [],
   "source": [
    "url"
   ]
  },
  {
   "cell_type": "code",
   "execution_count": null,
   "id": "61177a8f",
   "metadata": {},
   "outputs": [],
   "source": []
  }
 ],
 "metadata": {
  "kernelspec": {
   "display_name": "webscrap",
   "language": "python",
   "name": "webscrap"
  },
  "language_info": {
   "codemirror_mode": {
    "name": "ipython",
    "version": 3
   },
   "file_extension": ".py",
   "mimetype": "text/x-python",
   "name": "python",
   "nbconvert_exporter": "python",
   "pygments_lexer": "ipython3",
   "version": "3.10.4"
  }
 },
 "nbformat": 4,
 "nbformat_minor": 5
}
